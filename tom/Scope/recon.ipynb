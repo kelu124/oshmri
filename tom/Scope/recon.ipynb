{
 "cells": [
  {
   "cell_type": "code",
   "execution_count": 2,
   "id": "confident-destruction",
   "metadata": {},
   "outputs": [],
   "source": [
    "# -*- coding: utf-8 -*-\n",
    "\"\"\"\n",
    "Created on Thu Jan  6 23:18:33 2022\n",
    "\n",
    "@author: to_reilly\n",
    "\"\"\"\n",
    "\n",
    "import numpy as np\n",
    "import matplotlib.pyplot as plt\n",
    "\n",
    "import pickle, lzma"
   ]
  },
  {
   "cell_type": "code",
   "execution_count": 3,
   "id": "major-springfield",
   "metadata": {},
   "outputs": [
    {
     "name": "stdout",
     "output_type": "stream",
     "text": [
      "Process 63\n",
      "[-0.002      -0.00199998 -0.00199996 ...  0.01799998  0.018\n",
      "  0.01800002]\n"
     ]
    }
   ],
   "source": [
    "fileIdx = np.arange(63,64)\n",
    "\n",
    "rawRFdata       = []\n",
    "rawGradData     = [] #contains the frequency encoding gradient\n",
    "rawPhaseData    = [] #contains the phase encoding gradient\n",
    "rawPulseData    = [] #data containing the blanking signal from the RF amp, (in this case, with hard pulses) represent the envelope of the RF pulse \n",
    "\n",
    "for idx in fileIdx:\n",
    "    print(\"Process\",idx)\n",
    "    rawRFdata.append(np.genfromtxt(r'Raw data/C1--Line--%05d.csv'%(idx), delimiter = ',', skip_header = 5))\n",
    "    rawGradData.append(np.genfromtxt(r'Raw data/C2--Line--%05d.csv'%(idx), delimiter = ',', skip_header = 5))\n",
    "    rawPhaseData.append(np.genfromtxt(r'Raw data/C3--Line--%05d.csv'%(idx), delimiter = ',', skip_header = 5))\n",
    "    rawPulseData.append(np.genfromtxt(r'Raw data/C4--Line--%05d.csv'%(idx), delimiter = ',', skip_header = 5))\n",
    "\n",
    "    pickle.dump(1E6*np.array(rawRFdata[-1][:,0]).astype(np.float32), lzma.open(r'pkl/C0--Line--%05d.pkl.lzma'%(idx), 'wb'))\n",
    "    pickle.dump(   rawRFdata[-1][:,1].astype(np.float16), lzma.open(r'pkl/C1--Line--%05d.pkl.lzma'%(idx), 'wb'))\n",
    "    pickle.dump( rawGradData[-1][:,1].astype(np.float16), lzma.open(r'pkl/C2--Line--%05d.pkl.lzma'%(idx), 'wb'))\n",
    "    pickle.dump(rawPhaseData[-1][:,1].astype(np.float16), lzma.open(r'pkl/C3--Line--%05d.pkl.lzma'%(idx), 'wb'))\n",
    "    pickle.dump(rawPulseData[-1][:,1].astype(np.float16), lzma.open(r'pkl/C4--Line--%05d.pkl.lzma'%(idx), 'wb'))\n",
    "    print(rawRFdata[-1][:,0])\n",
    "rawRFdata   = np.array(rawRFdata)\n",
    "rawGradData = np.array(rawGradData)\n",
    "rawPhaseData= np.array(rawPhaseData)\n"
   ]
  },
  {
   "cell_type": "code",
   "execution_count": 3,
   "id": "equal-mountain",
   "metadata": {},
   "outputs": [],
   "source": [
    "fileIdx = np.arange(0,64)\n",
    "t = []\n",
    "rawRFdata       = []\n",
    "rawGradData     = [] #contains the frequency encoding gradient\n",
    "rawPhaseData    = [] #contains the phase encoding gradient\n",
    "rawPulseData    = [] #data containing the blanking signal from the RF amp, (in this case, with hard pulses) represent the envelope of the RF pulse \n",
    "\n",
    "for idx in fileIdx:\n",
    "    t.append(pickle.load(lzma.open(r'pkl/C0--Line--%05d.pkl.lzma'%(idx), 'rb')))\n",
    "    rawRFdata.append(pickle.load(lzma.open(r'pkl/C1--Line--%05d.pkl.lzma'%(idx), 'rb')))\n",
    "    rawGradData.append(pickle.load(lzma.open(r'pkl/C2--Line--%05d.pkl.lzma'%(idx), 'rb'))) \n",
    "    rawPhaseData.append(pickle.load(lzma.open(r'pkl/C3--Line--%05d.pkl.lzma'%(idx), 'rb')))\n",
    "    rawPulseData.append(pickle.load(lzma.open(r'pkl/C4--Line--%05d.pkl.lzma'%(idx), 'rb')))"
   ]
  },
  {
   "cell_type": "code",
   "execution_count": 4,
   "id": "choice-parking",
   "metadata": {},
   "outputs": [],
   "source": [
    "t = np.array(t).astype(np.float32)\n",
    "rawRFdata   = np.array(rawRFdata).astype(np.float16)\n",
    "rawGradData = np.array(rawGradData).astype(np.float16)\n",
    "rawPhaseData= np.array(rawPhaseData).astype(np.float16)\n",
    "rawPulseData= np.array(rawPulseData).astype(np.float16)"
   ]
  },
  {
   "cell_type": "code",
   "execution_count": 5,
   "id": "informed-grammar",
   "metadata": {},
   "outputs": [
    {
     "name": "stdout",
     "output_type": "stream",
     "text": [
      "Go!\n"
     ]
    }
   ],
   "source": [
    "if 1:\n",
    "    print(\"Go!\")\n",
    "    np.savez_compressed(\"rawRFdata\", rawRFdata = rawRFdata)\n",
    "    np.savez_compressed(\"rawGradData\", rawGradData = rawGradData)\n",
    "    np.savez_compressed(\"rawPhaseData\", rawPhaseData = rawPhaseData)\n",
    "    np.savez_compressed(\"rawPulseData\", rawPulseData = rawPulseData)\n",
    "    np.savez_compressed(\"t\", t)"
   ]
  },
  {
   "cell_type": "code",
   "execution_count": 6,
   "id": "excess-merchant",
   "metadata": {},
   "outputs": [],
   "source": [
    "if 0:\n",
    "    pickle.dump(   rawRFdata.astype(np.float16), lzma.open(r'C1.pkl.lzma'%(idx), 'wb'))\n",
    "    pickle.dump( rawGradData.astype(np.float16), lzma.open(r'C2.pkl.lzma'%(idx), 'wb'))\n",
    "    pickle.dump(rawPhaseData.astype(np.float16), lzma.open(r'C3.pkl.lzma'%(idx), 'wb'))\n",
    "    pickle.dump(rawPulseData.astype(np.float16), lzma.open(r'C4.pkl.lzma'%(idx), 'wb'))"
   ]
  },
  {
   "cell_type": "code",
   "execution_count": null,
   "id": "optical-celtic",
   "metadata": {},
   "outputs": [],
   "source": []
  },
  {
   "cell_type": "code",
   "execution_count": null,
   "id": "complex-friend",
   "metadata": {},
   "outputs": [],
   "source": []
  }
 ],
 "metadata": {
  "kernelspec": {
   "display_name": "Python 3",
   "language": "python",
   "name": "python3"
  },
  "language_info": {
   "codemirror_mode": {
    "name": "ipython",
    "version": 3
   },
   "file_extension": ".py",
   "mimetype": "text/x-python",
   "name": "python",
   "nbconvert_exporter": "python",
   "pygments_lexer": "ipython3",
   "version": "3.6.9"
  }
 },
 "nbformat": 4,
 "nbformat_minor": 5
}
