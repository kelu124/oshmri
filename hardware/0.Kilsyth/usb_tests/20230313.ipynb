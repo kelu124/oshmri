{
 "cells": [
  {
   "cell_type": "code",
   "execution_count": 1,
   "id": "22d6d0b5",
   "metadata": {},
   "outputs": [],
   "source": [
    "import pandas as pd"
   ]
  },
  {
   "cell_type": "code",
   "execution_count": 2,
   "id": "83285c55",
   "metadata": {},
   "outputs": [],
   "source": [
    "import sys;\n",
    "import select;\n",
    "import socket;\n",
    "import time;\n",
    "import os;\n",
    "import numpy as np\n",
    "import random;\n",
    "import ctypes;\n",
    "from time import sleep;\n",
    "import time;\n"
   ]
  },
  {
   "cell_type": "code",
   "execution_count": 4,
   "id": "7e64dd05",
   "metadata": {},
   "outputs": [],
   "source": [
    "import ftd3xx\n",
    "import sys\n",
    "import ftd3xx._ftd3xx_linux as _ft"
   ]
  },
  {
   "cell_type": "code",
   "execution_count": 10,
   "id": "7cfbed36",
   "metadata": {},
   "outputs": [
    {
     "name": "stdout",
     "output_type": "stream",
     "text": [
      "linux\n"
     ]
    }
   ],
   "source": [
    "print(sys.platform)\n",
    "def ReadPipe(D3XX, pipe, size):\n",
    "    return D3XX.readPipeEx(pipe-0x82, size)\n",
    "\n",
    "def CancelPipe(D3XX, pipe):\n",
    "\n",
    "    if sys.platform == 'linux':\n",
    "        return D3XX.flushPipe(pipe)\n",
    "\n",
    "    return D3XX.abortPipe(pipe)"
   ]
  },
  {
   "cell_type": "code",
   "execution_count": 12,
   "id": "203f30b4",
   "metadata": {},
   "outputs": [
    {
     "name": "stdout",
     "output_type": "stream",
     "text": [
      "1\n",
      "1  Device\n",
      "[<ftd3xx._ftd3xx_linux._FT_DEVICE_LIST_INFO_NODE object at 0x7f2a44533ec0>]\n"
     ]
    }
   ],
   "source": [
    "numDevices = ftd3xx.createDeviceInfoList()\n",
    "print(numDevices)\n",
    "if (numDevices == 0):\n",
    "    print(\"ERROR: No FTD3XX device is detected.\");\n",
    "else:\n",
    "    print(numDevices,\" Device\")\n",
    "devList = ftd3xx.getDeviceInfoList()\n",
    "print(devList)\n",
    "# Just open the first device (index 0)\n",
    "devIndex = 0;\n",
    "D3XX = ftd3xx.create(devIndex, _ft.FT_OPEN_BY_INDEX);  "
   ]
  },
  {
   "cell_type": "code",
   "execution_count": 13,
   "id": "f6a4c312",
   "metadata": {},
   "outputs": [
    {
     "name": "stdout",
     "output_type": "stream",
     "text": [
      "CLK:  0\n",
      "Mode:  0\n",
      "FlashEEPROMDetection:  16\n",
      "VID/PID: 0x60 0x1e\n"
     ]
    }
   ],
   "source": [
    "cfg = D3XX.getChipConfiguration();\n",
    "print(\"CLK: \",cfg.FIFOClock)\n",
    "print(\"Mode: \",cfg.FIFOMode)\n",
    "print(\"FlashEEPROMDetection: \",cfg.FlashEEPROMDetection)\n",
    "VP = D3XX.getVIDPID()\n",
    "print(\"VID/PID:\",hex(VP[0]), hex(VP[1]))"
   ]
  },
  {
   "cell_type": "code",
   "execution_count": 14,
   "id": "c182dbc6",
   "metadata": {},
   "outputs": [],
   "source": [
    "# Reset the FT600 to make sure starting fresh with nothing in FIFOs\n",
    "D3XX.resetDevicePort(); # Flush\n",
    "D3XX.close();"
   ]
  },
  {
   "cell_type": "code",
   "execution_count": 15,
   "id": "23b08b1f",
   "metadata": {},
   "outputs": [
    {
     "data": {
      "text/plain": [
       "0"
      ]
     },
     "execution_count": 15,
     "metadata": {},
     "output_type": "execute_result"
    }
   ],
   "source": [
    "D3XX = ftd3xx.create(devIndex, _ft.FT_OPEN_BY_INDEX);\n",
    "\n",
    "# check if USB3 or USB2\n",
    "devDesc = D3XX.getDeviceDescriptor();\n",
    "bUSB3 = devDesc.bcdUSB >= 0x300;\n",
    "\n",
    "# validate chip configuration\n",
    "cfg = D3XX.getChipConfiguration();\n",
    "cfg.FIFOClock"
   ]
  },
  {
   "cell_type": "code",
   "execution_count": 16,
   "id": "c19fcbe5",
   "metadata": {},
   "outputs": [],
   "source": [
    "D3XX.setChipConfiguration(cfg);"
   ]
  },
  {
   "cell_type": "code",
   "execution_count": 17,
   "id": "41216bd4",
   "metadata": {},
   "outputs": [
    {
     "name": "stdout",
     "output_type": "stream",
     "text": [
      "Changing FT600 Frequency\n"
     ]
    }
   ],
   "source": [
    "desired_freq = 1;# 1=66 MHz, 0=100 MHz\n",
    "if ( cfg.FIFOClock != desired_freq ):\n",
    "    print(\"Changing FT600 Frequency\");\n",
    "    cfg.FIFOClock = desired_freq;\n",
    "    D3XX.setChipConfiguration(cfg);\n",
    "D3XX.resetDevicePort(); # Flush\n",
    "D3XX.close();"
   ]
  },
  {
   "cell_type": "code",
   "execution_count": 18,
   "id": "52a51f5c",
   "metadata": {},
   "outputs": [
    {
     "name": "stdout",
     "output_type": "stream",
     "text": [
      "1  Device\n",
      "[<ftd3xx._ftd3xx_linux._FT_DEVICE_LIST_INFO_NODE object at 0x7f2a44533a40>]\n"
     ]
    }
   ],
   "source": [
    "numDevices = ftd3xx.createDeviceInfoList()\n",
    "if (numDevices == 0):\n",
    "    print(\"ERROR: No FTD3XX device is detected.\");\n",
    "else:\n",
    "    print(numDevices,\" Device\")\n",
    "devList = ftd3xx.getDeviceInfoList()\n",
    "print(devList)\n",
    "devIndex = 0;\n",
    "D3XX = ftd3xx.create(devIndex, _ft.FT_OPEN_BY_INDEX);"
   ]
  },
  {
   "cell_type": "code",
   "execution_count": 19,
   "id": "09162a33",
   "metadata": {},
   "outputs": [
    {
     "name": "stdout",
     "output_type": "stream",
     "text": [
      "\tVendorID = 0x0403\n",
      "\tProductID = 0x601e\n"
     ]
    },
    {
     "data": {
      "text/plain": [
       "(0, 265)"
      ]
     },
     "execution_count": 19,
     "metadata": {},
     "output_type": "execute_result"
    }
   ],
   "source": [
    "cfg = D3XX.getChipConfiguration();\n",
    "cfg.FIFOClock\n",
    "\n",
    "cfg = D3XX.getChipConfiguration();\n",
    "print(\"\\tVendorID = %#06x\" % cfg.VendorID)\n",
    "print(\"\\tProductID = %#06x\" % cfg.ProductID)\n",
    "cfg.FIFOMode,D3XX.getFirmwareVersion()"
   ]
  },
  {
   "cell_type": "code",
   "execution_count": 20,
   "id": "ad24a44f",
   "metadata": {},
   "outputs": [],
   "source": [
    "import ctypes\n",
    "conf = _ft.FT_TRANSFER_CONF();\n",
    "conf.wStructSize = ctypes.sizeof(_ft.FT_TRANSFER_CONF);\n",
    "conf.pipe[_ft.FT_PIPE_DIR_IN].fPipeNotUsed = True;\n",
    "conf.pipe[_ft.FT_PIPE_DIR_OUT].fPipeNotUsed = True;\n",
    "conf.pipe.fReserved = False;\n",
    "conf.pipe.fKeepDeviceSideBufferAfterReopen = False;\n",
    "for i in range(4):\n",
    "    ftd3xx.setTransferParams(conf, i);"
   ]
  },
  {
   "cell_type": "code",
   "execution_count": 21,
   "id": "4573a8a9",
   "metadata": {},
   "outputs": [
    {
     "name": "stdout",
     "output_type": "stream",
     "text": [
      "linux\n"
     ]
    }
   ],
   "source": [
    "print(sys.platform)\n",
    "def ReadPipe(D3XX, pipe, size):\n",
    "\n",
    "    if sys.platform == 'linux':\n",
    "        pipe -= 0x82\n",
    "    print(\"Pipe, \",pipe)\n",
    "    return D3XX.readPipeEx(pipe, size)\n",
    "\n",
    "def CancelPipe(D3XX, pipe):\n",
    "\n",
    "    if sys.platform == 'linux':\n",
    "        return D3XX.flushPipe(pipe)\n",
    "\n",
    "    return D3XX.abortPipe(pipe)"
   ]
  },
  {
   "cell_type": "code",
   "execution_count": 22,
   "id": "293911ab",
   "metadata": {},
   "outputs": [],
   "source": [
    "# Call before FT_Create when non-transfer functions will be called\n",
    "# Only needed for RevA chip (Firmware 1.0.2)\n",
    "# Not necessary starting RevB chip (Firmware 1.0.9)\n",
    "conf = _ft.FT_TRANSFER_CONF();\n",
    "conf.wStructSize = ctypes.sizeof(_ft.FT_TRANSFER_CONF);\n",
    "conf.pipe[_ft.FT_PIPE_DIR_IN].fPipeNotUsed = True;\n",
    "conf.pipe[_ft.FT_PIPE_DIR_OUT].fPipeNotUsed = True;\n",
    "conf.pipe.fReserved = False;\n",
    "conf.pipe.fKeepDeviceSideBufferAfterReopen = False;\n",
    "for i in range(4):\n",
    "    ftd3xx.setTransferParams(conf, i);"
   ]
  },
  {
   "cell_type": "code",
   "execution_count": 23,
   "id": "7335ddc4",
   "metadata": {},
   "outputs": [
    {
     "data": {
      "text/plain": [
       "0"
      ]
     },
     "execution_count": 23,
     "metadata": {},
     "output_type": "execute_result"
    }
   ],
   "source": [
    "D3XX.getLastError()"
   ]
  },
  {
   "cell_type": "code",
   "execution_count": 24,
   "id": "1b0c3dd4",
   "metadata": {},
   "outputs": [
    {
     "data": {
      "text/plain": [
       "1"
      ]
     },
     "execution_count": 24,
     "metadata": {},
     "output_type": "execute_result"
    }
   ],
   "source": [
    "numChannels = [4, 2, 1, 0, 0]\n",
    "numChannels = numChannels[cfg.ChannelConfig]\n",
    "numChannels"
   ]
  },
  {
   "cell_type": "code",
   "execution_count": 26,
   "id": "520116d7",
   "metadata": {},
   "outputs": [
    {
     "name": "stdout",
     "output_type": "stream",
     "text": [
      "Pipe,  0\n"
     ]
    },
    {
     "data": {
      "text/plain": [
       "{'bytesTransferred': 4096,\n",
       " 'bytes': b'\\x01\\x08\\x02\\x08\\x03\\x08\\x04\\x08\\x05\\x08\\x06\\x08\\x07\\x08\\x08\\x08\\t\\x08\\n\\x08\\x0b\\x08\\x0c\\x08\\r\\x08\\x0e\\x08\\x0f\\x08\\x10\\x08\\x11\\x08\\x12\\x08\\x13\\x08\\x14\\x08\\x15\\x08\\x16\\x08\\x17\\x08\\x18\\x08\\x19\\x08\\x1a\\x08\\x1b\\x08\\x1c\\x08\\x1d\\x08\\x1e\\x08\\x1f\\x08 \\x08!\\x08\"\\x08#\\x08$\\x08%\\x08&\\x08\\'\\x08(\\x08)\\x08*\\x08+\\x08,\\x08-\\x08.\\x08/\\x080\\x081\\x082\\x083\\x084\\x085\\x086\\x087\\x088\\x089\\x08:\\x08;\\x08<\\x08=\\x08>\\x08?\\x08@\\x08A\\x08B\\x08C\\x08D\\x08E\\x08F\\x08G\\x08H\\x08I\\x08J\\x08K\\x08L\\x08M\\x08N\\x08O\\x08P\\x08Q\\x08R\\x08S\\x08T\\x08U\\x08V\\x08W\\x08X\\x08Y\\x08Z\\x08[\\x08\\\\\\x08]\\x08^\\x08_\\x08`\\x08a\\x08b\\x08c\\x08d\\x08e\\x08f\\x08g\\x08h\\x08i\\x08j\\x08k\\x08l\\x08m\\x08n\\x08o\\x08p\\x08q\\x08r\\x08s\\x08t\\x08u\\x08v\\x08w\\x08x\\x08y\\x08z\\x08{\\x08|\\x08}\\x08~\\x08\\x7f\\x08\\x80\\x08\\x81\\x08\\x82\\x08\\x83\\x08\\x84\\x08\\x85\\x08\\x86\\x08\\x87\\x08\\x88\\x08\\x89\\x08\\x8a\\x08\\x8b\\x08\\x8c\\x08\\x8d\\x08\\x8e\\x08\\x8f\\x08\\x90\\x08\\x91\\x08\\x92\\x08\\x93\\x08\\x94\\x08\\x95\\x08\\x96\\x08\\x97\\x08\\x98\\x08\\x99\\x08\\x9a\\x08\\x9b\\x08\\x9c\\x08\\x9d\\x08\\x9e\\x08\\x9f\\x08\\xa0\\x08\\xa1\\x08\\xa2\\x08\\xa3\\x08\\xa4\\x08\\xa5\\x08\\xa6\\x08\\xa7\\x08\\xa8\\x08\\xa9\\x08\\xaa\\x08\\xab\\x08\\xac\\x08\\xad\\x08\\xae\\x08\\xaf\\x08\\xb0\\x08\\xb1\\x08\\xb2\\x08\\xb3\\x08\\xb4\\x08\\xb5\\x08\\xb6\\x08\\xb7\\x08\\xb8\\x08\\xb9\\x08\\xba\\x08\\xbb\\x08\\xbc\\x08\\xbd\\x08\\xbe\\x08\\xbf\\x08\\xc0\\x08\\xc1\\x08\\xc2\\x08\\xc3\\x08\\xc4\\x08\\xc5\\x08\\xc6\\x08\\xc7\\x08\\xc8\\x08\\xc9\\x08\\xca\\x08\\xcb\\x08\\xcc\\x08\\xcd\\x08\\xce\\x08\\xcf\\x08\\xd0\\x08\\xd1\\x08\\xd2\\x08\\xd3\\x08\\xd4\\x08\\xd5\\x08\\xd6\\x08\\xd7\\x08\\xd8\\x08\\xd9\\x08\\xda\\x08\\xdb\\x08\\xdc\\x08\\xdd\\x08\\xde\\x08\\xdf\\x08\\xe0\\x08\\xe1\\x08\\xe2\\x08\\xe3\\x08\\xe4\\x08\\xe5\\x08\\xe6\\x08\\xe7\\x08\\xe8\\x08\\xe9\\x08\\xea\\x08\\xeb\\x08\\xec\\x08\\xed\\x08\\xee\\x08\\xef\\x08\\xf0\\x08\\xf1\\x08\\xf2\\x08\\xf3\\x08\\xf4\\x08\\xf5\\x08\\xf6\\x08\\xf7\\x08\\xf8\\x08\\xf9\\x08\\xfa\\x08\\xfb\\x08\\xfc\\x08\\xfd\\x08\\xfe\\x08\\xff\\x08'}"
      ]
     },
     "execution_count": 26,
     "metadata": {},
     "output_type": "execute_result"
    }
   ],
   "source": [
    "ReadPipe(D3XX,  0x82, 4096)"
   ]
  }
 ],
 "metadata": {
  "kernelspec": {
   "display_name": "Python 3 (ipykernel)",
   "language": "python",
   "name": "python3"
  },
  "language_info": {
   "codemirror_mode": {
    "name": "ipython",
    "version": 3
   },
   "file_extension": ".py",
   "mimetype": "text/x-python",
   "name": "python",
   "nbconvert_exporter": "python",
   "pygments_lexer": "ipython3",
   "version": "3.10.6"
  }
 },
 "nbformat": 4,
 "nbformat_minor": 5
}
