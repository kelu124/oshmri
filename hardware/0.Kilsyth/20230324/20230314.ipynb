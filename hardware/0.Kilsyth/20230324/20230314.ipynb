{
 "cells": [
  {
   "cell_type": "code",
   "execution_count": 1,
   "id": "22d6d0b5",
   "metadata": {},
   "outputs": [],
   "source": [
    "import pandas as pd"
   ]
  },
  {
   "cell_type": "code",
   "execution_count": 2,
   "id": "83285c55",
   "metadata": {},
   "outputs": [],
   "source": [
    "import sys;\n",
    "import select;\n",
    "import socket;\n",
    "import time;\n",
    "import os;\n",
    "import numpy as np\n",
    "import random;\n",
    "import ctypes;\n",
    "from time import sleep;\n",
    "import time;\n"
   ]
  },
  {
   "cell_type": "code",
   "execution_count": 3,
   "id": "7e64dd05",
   "metadata": {},
   "outputs": [],
   "source": [
    "import ftd3xx\n",
    "import sys\n",
    "import ftd3xx._ftd3xx_linux as _ft"
   ]
  },
  {
   "cell_type": "code",
   "execution_count": 44,
   "id": "7cfbed36",
   "metadata": {},
   "outputs": [
    {
     "name": "stdout",
     "output_type": "stream",
     "text": [
      "linux\n"
     ]
    }
   ],
   "source": [
    "print(sys.platform)\n",
    "def ReadPipe(D3XX, pipe, size):\n",
    "    print(\"Read:\",pipe-0x82)\n",
    "    return D3XX.readPipeEx(pipe-0x82, size)\n",
    "\n",
    "def CancelPipe(D3XX, pipe):\n",
    "\n",
    "    if sys.platform == 'linux':\n",
    "        return D3XX.flushPipe(pipe)\n",
    "\n",
    "    return D3XX.abortPipe(pipe)"
   ]
  },
  {
   "cell_type": "code",
   "execution_count": 5,
   "id": "203f30b4",
   "metadata": {},
   "outputs": [
    {
     "name": "stdout",
     "output_type": "stream",
     "text": [
      "1\n",
      "1  Device\n",
      "[<ftd3xx._ftd3xx_linux._FT_DEVICE_LIST_INFO_NODE object at 0x7f9bc97524c0>]\n"
     ]
    }
   ],
   "source": [
    "numDevices = ftd3xx.createDeviceInfoList()\n",
    "print(numDevices)\n",
    "if (numDevices == 0):\n",
    "    print(\"ERROR: No FTD3XX device is detected.\");\n",
    "else:\n",
    "    print(numDevices,\" Device\")\n",
    "devList = ftd3xx.getDeviceInfoList()\n",
    "print(devList)\n",
    "# Just open the first device (index 0)\n",
    "devIndex = 0;\n",
    "D3XX = ftd3xx.create(devIndex, _ft.FT_OPEN_BY_INDEX);  "
   ]
  },
  {
   "cell_type": "code",
   "execution_count": 6,
   "id": "f6a4c312",
   "metadata": {},
   "outputs": [
    {
     "name": "stdout",
     "output_type": "stream",
     "text": [
      "CLK:  0\n",
      "Mode:  0\n",
      "FlashEEPROMDetection:  16\n",
      "VID/PID: 0x60 0x1e\n"
     ]
    }
   ],
   "source": [
    "cfg = D3XX.getChipConfiguration();\n",
    "print(\"CLK: \",cfg.FIFOClock)\n",
    "print(\"Mode: \",cfg.FIFOMode)\n",
    "print(\"FlashEEPROMDetection: \",cfg.FlashEEPROMDetection)\n",
    "VP = D3XX.getVIDPID()\n",
    "print(\"VID/PID:\",hex(VP[0]), hex(VP[1]))"
   ]
  },
  {
   "cell_type": "code",
   "execution_count": 7,
   "id": "c182dbc6",
   "metadata": {},
   "outputs": [],
   "source": [
    "# Reset the FT600 to make sure starting fresh with nothing in FIFOs\n",
    "D3XX.resetDevicePort(); # Flush\n",
    "D3XX.close();"
   ]
  },
  {
   "cell_type": "code",
   "execution_count": 8,
   "id": "23b08b1f",
   "metadata": {},
   "outputs": [
    {
     "data": {
      "text/plain": [
       "0"
      ]
     },
     "execution_count": 8,
     "metadata": {},
     "output_type": "execute_result"
    }
   ],
   "source": [
    "D3XX = ftd3xx.create(devIndex, _ft.FT_OPEN_BY_INDEX);\n",
    "\n",
    "# check if USB3 or USB2\n",
    "devDesc = D3XX.getDeviceDescriptor();\n",
    "bUSB3 = devDesc.bcdUSB >= 0x300;\n",
    "\n",
    "# validate chip configuration\n",
    "cfg = D3XX.getChipConfiguration();\n",
    "cfg.FIFOClock"
   ]
  },
  {
   "cell_type": "code",
   "execution_count": 9,
   "id": "c19fcbe5",
   "metadata": {},
   "outputs": [],
   "source": [
    "D3XX.setChipConfiguration(cfg);"
   ]
  },
  {
   "cell_type": "code",
   "execution_count": 10,
   "id": "41216bd4",
   "metadata": {},
   "outputs": [
    {
     "name": "stdout",
     "output_type": "stream",
     "text": [
      "Changing FT600 Frequency\n"
     ]
    }
   ],
   "source": [
    "desired_freq = 1;# 1=66 MHz, 0=100 MHz\n",
    "if ( cfg.FIFOClock != desired_freq ):\n",
    "    print(\"Changing FT600 Frequency\");\n",
    "    cfg.FIFOClock = desired_freq;\n",
    "    D3XX.setChipConfiguration(cfg);\n",
    "D3XX.resetDevicePort(); # Flush\n",
    "D3XX.close();"
   ]
  },
  {
   "cell_type": "code",
   "execution_count": 11,
   "id": "52a51f5c",
   "metadata": {},
   "outputs": [
    {
     "name": "stdout",
     "output_type": "stream",
     "text": [
      "1  Device\n",
      "[<ftd3xx._ftd3xx_linux._FT_DEVICE_LIST_INFO_NODE object at 0x7f9bc97537c0>]\n"
     ]
    }
   ],
   "source": [
    "numDevices = ftd3xx.createDeviceInfoList()\n",
    "if (numDevices == 0):\n",
    "    print(\"ERROR: No FTD3XX device is detected.\");\n",
    "else:\n",
    "    print(numDevices,\" Device\")\n",
    "devList = ftd3xx.getDeviceInfoList()\n",
    "print(devList)\n",
    "devIndex = 0;\n",
    "D3XX = ftd3xx.create(devIndex, _ft.FT_OPEN_BY_INDEX);"
   ]
  },
  {
   "cell_type": "code",
   "execution_count": 12,
   "id": "09162a33",
   "metadata": {},
   "outputs": [
    {
     "name": "stdout",
     "output_type": "stream",
     "text": [
      "\tVendorID = 0x0403\n",
      "\tProductID = 0x601e\n"
     ]
    },
    {
     "data": {
      "text/plain": [
       "(0, 265)"
      ]
     },
     "execution_count": 12,
     "metadata": {},
     "output_type": "execute_result"
    }
   ],
   "source": [
    "cfg = D3XX.getChipConfiguration();\n",
    "cfg.FIFOClock\n",
    "\n",
    "cfg = D3XX.getChipConfiguration();\n",
    "print(\"\\tVendorID = %#06x\" % cfg.VendorID)\n",
    "print(\"\\tProductID = %#06x\" % cfg.ProductID)\n",
    "cfg.FIFOMode,D3XX.getFirmwareVersion()"
   ]
  },
  {
   "cell_type": "code",
   "execution_count": 13,
   "id": "ad24a44f",
   "metadata": {},
   "outputs": [],
   "source": [
    "import ctypes\n",
    "conf = _ft.FT_TRANSFER_CONF();\n",
    "conf.wStructSize = ctypes.sizeof(_ft.FT_TRANSFER_CONF);\n",
    "conf.pipe[_ft.FT_PIPE_DIR_IN].fPipeNotUsed = True;\n",
    "conf.pipe[_ft.FT_PIPE_DIR_OUT].fPipeNotUsed = True;\n",
    "conf.pipe.fReserved = False;\n",
    "conf.pipe.fKeepDeviceSideBufferAfterReopen = False;\n",
    "for i in range(4):\n",
    "    ftd3xx.setTransferParams(conf, i);"
   ]
  },
  {
   "cell_type": "code",
   "execution_count": 14,
   "id": "4573a8a9",
   "metadata": {},
   "outputs": [
    {
     "name": "stdout",
     "output_type": "stream",
     "text": [
      "linux\n"
     ]
    }
   ],
   "source": [
    "print(sys.platform)\n",
    "def ReadPipe(D3XX, pipe, size):\n",
    "\n",
    "    if sys.platform == 'linux':\n",
    "        pipe -= 0x82\n",
    "    print(\"Pipe, \",pipe)\n",
    "    return D3XX.readPipeEx(pipe, size)\n",
    "\n",
    "def CancelPipe(D3XX, pipe):\n",
    "\n",
    "    if sys.platform == 'linux':\n",
    "        return D3XX.flushPipe(pipe)\n",
    "\n",
    "    return D3XX.abortPipe(pipe)"
   ]
  },
  {
   "cell_type": "code",
   "execution_count": 15,
   "id": "293911ab",
   "metadata": {},
   "outputs": [],
   "source": [
    "# Call before FT_Create when non-transfer functions will be called\n",
    "# Only needed for RevA chip (Firmware 1.0.2)\n",
    "# Not necessary starting RevB chip (Firmware 1.0.9)\n",
    "conf = _ft.FT_TRANSFER_CONF();\n",
    "conf.wStructSize = ctypes.sizeof(_ft.FT_TRANSFER_CONF);\n",
    "conf.pipe[_ft.FT_PIPE_DIR_IN].fPipeNotUsed = True;\n",
    "conf.pipe[_ft.FT_PIPE_DIR_OUT].fPipeNotUsed = True;\n",
    "conf.pipe.fReserved = False;\n",
    "conf.pipe.fKeepDeviceSideBufferAfterReopen = False;\n",
    "for i in range(4):\n",
    "    ftd3xx.setTransferParams(conf, i);"
   ]
  },
  {
   "cell_type": "code",
   "execution_count": 16,
   "id": "7335ddc4",
   "metadata": {},
   "outputs": [
    {
     "data": {
      "text/plain": [
       "0"
      ]
     },
     "execution_count": 16,
     "metadata": {},
     "output_type": "execute_result"
    }
   ],
   "source": [
    "D3XX.getLastError()"
   ]
  },
  {
   "cell_type": "code",
   "execution_count": 56,
   "id": "1b0c3dd4",
   "metadata": {},
   "outputs": [
    {
     "data": {
      "text/plain": [
       "1"
      ]
     },
     "execution_count": 56,
     "metadata": {},
     "output_type": "execute_result"
    }
   ],
   "source": [
    "numChannels = [4, 2, 1, 0, 0]\n",
    "numChannels = numChannels[cfg.ChannelConfig]\n",
    "numChannels"
   ]
  },
  {
   "cell_type": "code",
   "execution_count": 18,
   "id": "520116d7",
   "metadata": {},
   "outputs": [
    {
     "name": "stdout",
     "output_type": "stream",
     "text": [
      "Pipe,  0\n",
      "Pipe,  0\n",
      "Pipe,  0\n",
      "Pipe,  0\n",
      "4.005713939666748\n"
     ]
    }
   ],
   "source": [
    "A = []\n",
    "N = 4\n",
    "start_time = time.time()\n",
    "for i in range(N):\n",
    "    A.append(ReadPipe(D3XX,  0x82, 4096*8*8))\n",
    "stop = time.time()\n",
    "print(stop-start_time)"
   ]
  },
  {
   "cell_type": "code",
   "execution_count": 19,
   "id": "82791fbb",
   "metadata": {},
   "outputs": [
    {
     "data": {
      "text/plain": [
       "0.0"
      ]
     },
     "execution_count": 19,
     "metadata": {},
     "output_type": "execute_result"
    }
   ],
   "source": [
    "A[-1]['bytesTransferred']*N/(stop-start_time)"
   ]
  },
  {
   "cell_type": "code",
   "execution_count": 45,
   "id": "13445217",
   "metadata": {},
   "outputs": [
    {
     "name": "stdout",
     "output_type": "stream",
     "text": [
      "Read: 0\n",
      "1.302826166152954\n"
     ]
    }
   ],
   "source": [
    "start_time = time.time()\n",
    "A.append(ReadPipe(D3XX,  0x82, 500000000))\n",
    "stop = time.time()\n",
    "print(stop-start_time)"
   ]
  },
  {
   "cell_type": "code",
   "execution_count": 21,
   "id": "88005c29",
   "metadata": {},
   "outputs": [
    {
     "data": {
      "text/plain": [
       "381164253.3466231"
      ]
     },
     "execution_count": 21,
     "metadata": {},
     "output_type": "execute_result"
    }
   ],
   "source": [
    "500000000 / (stop-start_time)"
   ]
  },
  {
   "cell_type": "markdown",
   "id": "8bb83524",
   "metadata": {},
   "source": [
    "```\n",
    "T:  Bus=02 Lev=01 Prnt=01 Port=03 Cnt=01 Dev#=  3 Spd=480 MxCh= 0\n",
    "D:  Ver= 2.10 Cls=ef(misc ) Sub=02 Prot=01 MxPS=64 #Cfgs=  1\n",
    "P:  Vendor=0403 ProdID=601e Rev=00.00\n",
    "S:  Manufacturer=FTDI\n",
    "S:  Product=FTDI SuperSpeed-FIFO Bridge\n",
    "S:  SerialNumber=000000000001\n",
    "C:  #Ifs= 2 Cfg#= 1 Atr=e0 MxPwr=96mA\n",
    "I:  If#= 0 Alt= 0 #EPs= 2 Cls=ff(vend.) Sub=ff Prot=ff Driver=usbfs\n",
    "E:  Ad=01(O) Atr=02(Bulk) MxPS= 512 Ivl=0ms\n",
    "E:  Ad=81(I) Atr=03(Int.) MxPS=  64 Ivl=32ms\n",
    "I:  If#= 1 Alt= 0 #EPs= 2 Cls=ff(vend.) Sub=ff Prot=ff Driver=usbfs\n",
    "E:  Ad=02(O) Atr=02(Bulk) MxPS= 512 Ivl=0ms\n",
    "E:  Ad=82(I) Atr=02(Bulk) MxPS= 512 Ivl=0ms\n",
    "```\n",
    "\n"
   ]
  },
  {
   "cell_type": "markdown",
   "id": "bd56929b",
   "metadata": {},
   "source": [
    "```\n",
    "Bus 002 Device 003: ID 0403:601e Future Technology Devices International, Ltd FTDI SuperSpeed-FIFO Bridge\n",
    "Device Descriptor:\n",
    "  bLength                18\n",
    "  bDescriptorType         1\n",
    "  bcdUSB               2.10\n",
    "  bDeviceClass          239 Miscellaneous Device\n",
    "  bDeviceSubClass         2 \n",
    "  bDeviceProtocol         1 Interface Association\n",
    "  bMaxPacketSize0        64\n",
    "  idVendor           0x0403 Future Technology Devices International, Ltd\n",
    "  idProduct          0x601e \n",
    "  bcdDevice            0.00\n",
    "  iManufacturer           1 FTDI\n",
    "  iProduct                2 FTDI SuperSpeed-FIFO Bridge\n",
    "  iSerial                 3 000000000001\n",
    "  bNumConfigurations      1\n",
    "  Configuration Descriptor:\n",
    "    bLength                 9\n",
    "    bDescriptorType         2\n",
    "    wTotalLength       0x003f\n",
    "    bNumInterfaces          2\n",
    "    bConfigurationValue     1\n",
    "    iConfiguration          0 \n",
    "    bmAttributes         0xe0\n",
    "      Self Powered\n",
    "      Remote Wakeup\n",
    "    MaxPower               96mA\n",
    "    Interface Association:\n",
    "      bLength                 8\n",
    "      bDescriptorType        11\n",
    "      bFirstInterface         0\n",
    "      bInterfaceCount         2\n",
    "      bFunctionClass        255 Vendor Specific Class\n",
    "      bFunctionSubClass     255 Vendor Specific Subclass\n",
    "      bFunctionProtocol     255 Vendor Specific Protocol\n",
    "      iFunction               0 \n",
    "    Interface Descriptor:\n",
    "      bLength                 9\n",
    "      bDescriptorType         4\n",
    "      bInterfaceNumber        0\n",
    "      bAlternateSetting       0\n",
    "      bNumEndpoints           2\n",
    "      bInterfaceClass       255 Vendor Specific Class\n",
    "      bInterfaceSubClass    255 Vendor Specific Subclass\n",
    "      bInterfaceProtocol    255 Vendor Specific Protocol\n",
    "      iInterface              0 \n",
    "      Endpoint Descriptor:\n",
    "        bLength                 7\n",
    "        bDescriptorType         5\n",
    "        bEndpointAddress     0x01  EP 1 OUT\n",
    "        bmAttributes            2\n",
    "          Transfer Type            Bulk\n",
    "          Synch Type               None\n",
    "          Usage Type               Data\n",
    "        wMaxPacketSize     0x0200  1x 512 bytes\n",
    "        bInterval               0\n",
    "      Endpoint Descriptor:\n",
    "        bLength                 7\n",
    "        bDescriptorType         5\n",
    "        bEndpointAddress     0x81  EP 1 IN\n",
    "        bmAttributes            3\n",
    "          Transfer Type            Interrupt\n",
    "          Synch Type               None\n",
    "          Usage Type               Data\n",
    "        wMaxPacketSize     0x0040  1x 64 bytes\n",
    "        bInterval               9\n",
    "    Interface Descriptor:\n",
    "      bLength                 9\n",
    "      bDescriptorType         4\n",
    "      bInterfaceNumber        1\n",
    "      bAlternateSetting       0\n",
    "      bNumEndpoints           2\n",
    "      bInterfaceClass       255 Vendor Specific Class\n",
    "      bInterfaceSubClass    255 Vendor Specific Subclass\n",
    "      bInterfaceProtocol    255 Vendor Specific Protocol\n",
    "      iInterface              0 \n",
    "      Endpoint Descriptor:\n",
    "        bLength                 7\n",
    "        bDescriptorType         5\n",
    "        bEndpointAddress     0x02  EP 2 OUT\n",
    "        bmAttributes            2\n",
    "          Transfer Type            Bulk\n",
    "          Synch Type               None\n",
    "          Usage Type               Data\n",
    "        wMaxPacketSize     0x0200  1x 512 bytes\n",
    "        bInterval               0\n",
    "      Endpoint Descriptor:\n",
    "        bLength                 7\n",
    "        bDescriptorType         5\n",
    "        bEndpointAddress     0x82  EP 2 IN\n",
    "        bmAttributes            2\n",
    "          Transfer Type            Bulk\n",
    "          Synch Type               None\n",
    "          Usage Type               Data\n",
    "        wMaxPacketSize     0x0200  1x 512 bytes\n",
    "        bInterval               0\n",
    "Binary Object Store Descriptor:\n",
    "  bLength                 5\n",
    "  bDescriptorType        15\n",
    "  wTotalLength       0x0016\n",
    "  bNumDeviceCaps          2\n",
    "  USB 2.0 Extension Device Capability:\n",
    "    bLength                 7\n",
    "    bDescriptorType        16\n",
    "    bDevCapabilityType      2\n",
    "    bmAttributes   0x00000006\n",
    "      BESL Link Power Management (LPM) Supported\n",
    "  SuperSpeed USB Device Capability:\n",
    "    bLength                10\n",
    "    bDescriptorType        16\n",
    "    bDevCapabilityType      3\n",
    "    bmAttributes         0x00\n",
    "    wSpeedsSupported   0x000e\n",
    "      Device can operate at Full Speed (12Mbps)\n",
    "      Device can operate at High Speed (480Mbps)\n",
    "      Device can operate at SuperSpeed (5Gbps)\n",
    "    bFunctionalitySupport   2\n",
    "      Lowest fully-functional device speed is High Speed (480Mbps)\n",
    "    bU1DevExitLat          10 micro seconds\n",
    "    bU2DevExitLat        2047 micro seconds\n",
    "Device Status:     0x0001\n",
    "  Self Powered\n",
    "\n",
    "```"
   ]
  },
  {
   "cell_type": "code",
   "execution_count": 49,
   "id": "6bc7e7fb",
   "metadata": {},
   "outputs": [],
   "source": [
    "def write(D3XX, pipe, bytes, timeout=1000):\n",
    "\n",
    "    print(len(bytes))\n",
    "    return D3XX.writePipe(pipe, bytes, len(bytes), timeout)\n"
   ]
  },
  {
   "cell_type": "code",
   "execution_count": 79,
   "id": "3100e53a",
   "metadata": {},
   "outputs": [
    {
     "name": "stdout",
     "output_type": "stream",
     "text": [
      "b'\\x81\\x00' 2\n"
     ]
    }
   ],
   "source": [
    "channel = 0\n",
    "\n",
    "PIPE = 0x02 + channel\n",
    "if sys.platform == 'linux':\n",
    "    PIPE -= 0x02\n",
    "    \n",
    "B = bytes.fromhex(\"8100\")\n",
    "print(B,D3XX.writePipe(PIPE, B, len(B)))"
   ]
  },
  {
   "cell_type": "code",
   "execution_count": 87,
   "id": "a4e0d846",
   "metadata": {},
   "outputs": [
    {
     "name": "stdout",
     "output_type": "stream",
     "text": [
      "2\n"
     ]
    }
   ],
   "source": [
    "D3XX.writePipe(PIPE, B, len(B))\n",
    "messages = [0x8100]\n",
    "\n",
    "for opcode in messages:\n",
    "    B = opcode.to_bytes(2, 'big')\n",
    "    print(D3XX.writePipe(PIPE, B, len(B)))\n",
    "## Does not blink"
   ]
  },
  {
   "cell_type": "code",
   "execution_count": 88,
   "id": "f09f14a0",
   "metadata": {},
   "outputs": [
    {
     "name": "stdout",
     "output_type": "stream",
     "text": [
      "2\n",
      "2\n",
      "2\n"
     ]
    }
   ],
   "source": [
    "D3XX.writePipe(PIPE, B, len(B))\n",
    "messages = [0x1000,0x2080,0x3000]\n",
    "\n",
    "for opcode in messages:\n",
    "    B = opcode.to_bytes(2, 'little')\n",
    "    print(D3XX.writePipe(PIPE, B, len(B)))\n",
    "# Writing works for the 3 x2 bytes"
   ]
  },
  {
   "cell_type": "code",
   "execution_count": 92,
   "id": "3611bb01",
   "metadata": {},
   "outputs": [
    {
     "name": "stdout",
     "output_type": "stream",
     "text": [
      "Read: 0\n"
     ]
    },
    {
     "data": {
      "text/plain": [
       "{'bytesTransferred': 0, 'bytes': b''}"
      ]
     },
     "execution_count": 92,
     "metadata": {},
     "output_type": "execute_result"
    }
   ],
   "source": [
    "ReadPipe(D3XX,  0x82, 1000000)#\n",
    "# reading nothing back"
   ]
  },
  {
   "cell_type": "code",
   "execution_count": null,
   "id": "10bf80c5",
   "metadata": {},
   "outputs": [],
   "source": []
  },
  {
   "cell_type": "code",
   "execution_count": null,
   "id": "d73f0242",
   "metadata": {},
   "outputs": [],
   "source": []
  }
 ],
 "metadata": {
  "kernelspec": {
   "display_name": "Python 3 (ipykernel)",
   "language": "python",
   "name": "python3"
  },
  "language_info": {
   "codemirror_mode": {
    "name": "ipython",
    "version": 3
   },
   "file_extension": ".py",
   "mimetype": "text/x-python",
   "name": "python",
   "nbconvert_exporter": "python",
   "pygments_lexer": "ipython3",
   "version": "3.10.6"
  }
 },
 "nbformat": 4,
 "nbformat_minor": 5
}
