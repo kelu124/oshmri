{
 "cells": [
  {
   "cell_type": "code",
   "execution_count": 1,
   "id": "22d6d0b5",
   "metadata": {},
   "outputs": [
    {
     "name": "stdout",
     "output_type": "stream",
     "text": [
      "linux\n"
     ]
    }
   ],
   "source": [
    "import pandas as pd\n",
    "\n",
    "import sys;\n",
    "import select;\n",
    "import socket;\n",
    "import time;\n",
    "import os;\n",
    "import numpy as np\n",
    "import random;\n",
    "import ctypes;\n",
    "from time import sleep;\n",
    "import time;\n",
    "\n",
    "import ftd3xx\n",
    "import sys\n",
    "import ftd3xx._ftd3xx_linux as _ft\n",
    "# LOOPS works\n",
    "\n",
    "print(sys.platform)\n",
    "def ReadPipe(D3XX, pipe, size):\n",
    "\n",
    "    if sys.platform == 'linux':\n",
    "        pipe -= 0x82\n",
    "    print(\"Pipe, \",pipe)\n",
    "    return D3XX.readPipeEx(pipe, size)\n",
    "\n",
    "def CancelPipe(D3XX, pipe):\n",
    "\n",
    "    if sys.platform == 'linux':\n",
    "        return D3XX.flushPipe(pipe)\n",
    "\n",
    "    return D3XX.abortPipe(pipe)\n",
    "\n",
    "def write(D3XX, pipe, bytes, timeout=1000):\n",
    "\n",
    "    print(len(bytes))\n",
    "    return D3XX.writePipe(pipe, bytes, len(bytes), timeout)\n",
    "\n",
    "\n",
    "import ctypes\n",
    "conf = _ft.FT_TRANSFER_CONF();\n",
    "conf.wStructSize = ctypes.sizeof(_ft.FT_TRANSFER_CONF);\n",
    "conf.pipe[_ft.FT_PIPE_DIR_IN].fPipeNotUsed = True;\n",
    "conf.pipe[_ft.FT_PIPE_DIR_OUT].fPipeNotUsed = True;\n",
    "conf.pipe.fReserved = False;\n",
    "conf.pipe.fKeepDeviceSideBufferAfterReopen = False;\n",
    "for i in range(4):\n",
    "    ftd3xx.setTransferParams(conf, i);"
   ]
  },
  {
   "cell_type": "markdown",
   "id": "33b6566d",
   "metadata": {},
   "source": [
    "## Setup"
   ]
  },
  {
   "cell_type": "code",
   "execution_count": 2,
   "id": "203f30b4",
   "metadata": {},
   "outputs": [
    {
     "name": "stdout",
     "output_type": "stream",
     "text": [
      "1\n",
      "1  Device\n",
      "[<ftd3xx._ftd3xx_linux._FT_DEVICE_LIST_INFO_NODE object at 0x7f1d0094e7c0>]\n",
      "CLK:  0\n",
      "Mode:  0\n",
      "FlashEEPROMDetection:  16\n",
      "VID/PID: 0x60 0x1e\n",
      "Clock 0\n",
      "1  Device\n",
      "[<ftd3xx._ftd3xx_linux._FT_DEVICE_LIST_INFO_NODE object at 0x7f1d0094e940>]\n",
      "\tVendorID = 0x0403\n",
      "\tProductID = 0x601e\n",
      "0 265\n",
      "Last error 0\n"
     ]
    },
    {
     "data": {
      "text/plain": [
       "1"
      ]
     },
     "execution_count": 2,
     "metadata": {},
     "output_type": "execute_result"
    }
   ],
   "source": [
    "numDevices = ftd3xx.createDeviceInfoList()\n",
    "print(numDevices)\n",
    "if (numDevices == 0):\n",
    "    print(\"ERROR: No FTD3XX device is detected.\");\n",
    "else:\n",
    "    print(numDevices,\" Device\")\n",
    "devList = ftd3xx.getDeviceInfoList()\n",
    "print(devList)\n",
    "# Just open the first device (index 0)\n",
    "devIndex = 0;\n",
    "D3XX = ftd3xx.create(devIndex, _ft.FT_OPEN_BY_INDEX);  \n",
    "\n",
    "cfg = D3XX.getChipConfiguration();\n",
    "print(\"CLK: \",cfg.FIFOClock)\n",
    "print(\"Mode: \",cfg.FIFOMode)\n",
    "print(\"FlashEEPROMDetection: \",cfg.FlashEEPROMDetection)\n",
    "VP = D3XX.getVIDPID()\n",
    "print(\"VID/PID:\",hex(VP[0]), hex(VP[1]))\n",
    "\n",
    "# Reset the FT600 to make sure starting fresh with nothing in FIFOs\n",
    "D3XX.resetDevicePort(); # Flush\n",
    "D3XX.close();\n",
    "# Restart\n",
    "D3XX = ftd3xx.create(devIndex, _ft.FT_OPEN_BY_INDEX);\n",
    "\n",
    "# check if USB3 or USB2\n",
    "devDesc = D3XX.getDeviceDescriptor();\n",
    "bUSB3 = devDesc.bcdUSB >= 0x300;\n",
    "\n",
    "# validate chip configuration\n",
    "cfg = D3XX.getChipConfiguration();\n",
    "print(\"Clock\",cfg.FIFOClock)\n",
    "\n",
    "\n",
    "D3XX.setChipConfiguration(cfg);\n",
    "desired_freq = 0;# 1=66 MHz, 0=100 MHz\n",
    "if ( cfg.FIFOClock != desired_freq ):\n",
    "    print(\"Changing FT600 Frequency\");\n",
    "    cfg.FIFOClock = desired_freq;\n",
    "    D3XX.setChipConfiguration(cfg);\n",
    "D3XX.resetDevicePort(); # Flush\n",
    "D3XX.close();\n",
    "\n",
    "numDevices = ftd3xx.createDeviceInfoList()\n",
    "if (numDevices == 0):\n",
    "    print(\"ERROR: No FTD3XX device is detected.\");\n",
    "else:\n",
    "    print(numDevices,\" Device\")\n",
    "devList = ftd3xx.getDeviceInfoList()\n",
    "print(devList)\n",
    "devIndex = 0;\n",
    "D3XX = ftd3xx.create(devIndex, _ft.FT_OPEN_BY_INDEX);\n",
    "\n",
    "cfg = D3XX.getChipConfiguration();\n",
    "cfg.FIFOClock\n",
    "\n",
    "cfg = D3XX.getChipConfiguration();\n",
    "print(\"\\tVendorID = %#06x\" % cfg.VendorID)\n",
    "print(\"\\tProductID = %#06x\" % cfg.ProductID)\n",
    "FIFO,FW = cfg.FIFOMode,D3XX.getFirmwareVersion()\n",
    "print(FIFO,FW)\n",
    "# Call before FT_Create when non-transfer functions will be called\n",
    "# Only needed for RevA chip (Firmware 1.0.2)\n",
    "# Not necessary starting RevB chip (Firmware 1.0.9)\n",
    "conf = _ft.FT_TRANSFER_CONF();\n",
    "conf.wStructSize = ctypes.sizeof(_ft.FT_TRANSFER_CONF);\n",
    "conf.pipe[_ft.FT_PIPE_DIR_IN].fPipeNotUsed = True;\n",
    "conf.pipe[_ft.FT_PIPE_DIR_OUT].fPipeNotUsed = True;\n",
    "conf.pipe.fReserved = False;\n",
    "conf.pipe.fKeepDeviceSideBufferAfterReopen = False;\n",
    "for i in range(4):\n",
    "    ftd3xx.setTransferParams(conf, i);\n",
    "    \n",
    "print(\"Last error\",D3XX.getLastError())\n",
    "\n",
    "numChannels = [4, 2, 1, 0, 0]\n",
    "numChannels = numChannels[cfg.ChannelConfig]\n",
    "numChannels"
   ]
  },
  {
   "cell_type": "markdown",
   "id": "4d685280",
   "metadata": {},
   "source": [
    "# Starting"
   ]
  },
  {
   "cell_type": "code",
   "execution_count": 3,
   "id": "a4e0d846",
   "metadata": {},
   "outputs": [],
   "source": [
    "channel = 0\n",
    "\n",
    "PIPE = 0x02 + channel\n",
    "if sys.platform == 'linux':\n",
    "    PIPE -= 0x02\n",
    "    \n",
    "    "
   ]
  },
  {
   "cell_type": "markdown",
   "id": "44cb5ffe",
   "metadata": {},
   "source": [
    "# Changing LEDs on Kilsyth"
   ]
  },
  {
   "cell_type": "code",
   "execution_count": 25,
   "id": "2b4d4f90",
   "metadata": {},
   "outputs": [
    {
     "name": "stdout",
     "output_type": "stream",
     "text": [
      "Code sent: b'\\xff\\x80'\n",
      "2\n"
     ]
    }
   ],
   "source": [
    "messages = [0x80FF]\n",
    "\n",
    "for opcode in messages:\n",
    "    B = opcode.to_bytes(2, 'little')\n",
    "    print(\"Code sent:\",B)\n",
    "    print(D3XX.writePipe(PIPE, B, len(B)))\n",
    "# Writing works for the 3 x2 bytes"
   ]
  },
  {
   "cell_type": "code",
   "execution_count": 26,
   "id": "e4a4ebe1",
   "metadata": {},
   "outputs": [
    {
     "name": "stdout",
     "output_type": "stream",
     "text": [
      "Code sent: b'\\x00\\x80'\n",
      "2\n"
     ]
    }
   ],
   "source": [
    "messages = [0x8000]\n",
    "\n",
    "for opcode in messages:\n",
    "    B = opcode.to_bytes(2, 'little')\n",
    "    print(\"Code sent:\",B)\n",
    "    print(D3XX.writePipe(PIPE, B, len(B)))\n",
    "# Writing works for the 3 x2 bytes"
   ]
  },
  {
   "cell_type": "code",
   "execution_count": 27,
   "id": "5cb9fbd6",
   "metadata": {},
   "outputs": [
    {
     "name": "stdout",
     "output_type": "stream",
     "text": [
      "Pipe,  0\n"
     ]
    },
    {
     "data": {
      "text/plain": [
       "{'bytesTransferred': 0, 'bytes': b''}"
      ]
     },
     "execution_count": 27,
     "metadata": {},
     "output_type": "execute_result"
    }
   ],
   "source": [
    "ReadPipe(D3XX,  0x82, 17*2*8*10000)"
   ]
  },
  {
   "cell_type": "code",
   "execution_count": 28,
   "id": "f09f14a0",
   "metadata": {},
   "outputs": [
    {
     "name": "stdout",
     "output_type": "stream",
     "text": [
      "Code sent: b'\\x00\\xa0'\n",
      "2\n"
     ]
    }
   ],
   "source": [
    "messages = [0xA000] ## trigger\n",
    "\n",
    "for opcode in messages:\n",
    "    B = opcode.to_bytes(2, 'little')\n",
    "    print(\"Code sent:\",B)\n",
    "    print(D3XX.writePipe(PIPE, B, len(B)))\n",
    "# Writing works for the 3 x2 bytes"
   ]
  },
  {
   "cell_type": "code",
   "execution_count": 31,
   "id": "c162917a",
   "metadata": {},
   "outputs": [
    {
     "name": "stdout",
     "output_type": "stream",
     "text": [
      "Pipe,  0\n"
     ]
    },
    {
     "data": {
      "text/plain": [
       "{'bytesTransferred': 0, 'bytes': b''}"
      ]
     },
     "execution_count": 31,
     "metadata": {},
     "output_type": "execute_result"
    }
   ],
   "source": [
    "ReadPipe(D3XX,  0x82, 17*2*8*10000)"
   ]
  },
  {
   "cell_type": "code",
   "execution_count": 32,
   "id": "3611bb01",
   "metadata": {},
   "outputs": [
    {
     "name": "stdout",
     "output_type": "stream",
     "text": [
      "Pipe,  0\n"
     ]
    },
    {
     "data": {
      "text/plain": [
       "{'bytesTransferred': 0, 'bytes': b''}"
      ]
     },
     "execution_count": 32,
     "metadata": {},
     "output_type": "execute_result"
    }
   ],
   "source": [
    "ReadPipe(D3XX,  0x82, 17*2*8*10000)"
   ]
  },
  {
   "cell_type": "code",
   "execution_count": 30,
   "id": "10bf80c5",
   "metadata": {},
   "outputs": [
    {
     "name": "stdout",
     "output_type": "stream",
     "text": [
      "Code sent: b'\\x00\\x10'\n",
      "2\n"
     ]
    }
   ],
   "source": [
    "\n",
    "messages = [0x1000]\n",
    "\n",
    "for opcode in messages:\n",
    "    B = opcode.to_bytes(2, 'little')\n",
    "    print(\"Code sent:\",B)\n",
    "    print(D3XX.writePipe(PIPE, B, len(B)))\n",
    "# Writing works for the 3 x2 bytes"
   ]
  },
  {
   "cell_type": "code",
   "execution_count": 31,
   "id": "d73f0242",
   "metadata": {},
   "outputs": [
    {
     "name": "stdout",
     "output_type": "stream",
     "text": [
      "Pipe,  0\n"
     ]
    },
    {
     "data": {
      "text/plain": [
       "{'bytesTransferred': 0, 'bytes': b''}"
      ]
     },
     "execution_count": 31,
     "metadata": {},
     "output_type": "execute_result"
    }
   ],
   "source": [
    "ReadPipe(D3XX,  0x82, 16*2*8*16*3000)"
   ]
  },
  {
   "cell_type": "code",
   "execution_count": 32,
   "id": "697b7d96",
   "metadata": {},
   "outputs": [
    {
     "name": "stdout",
     "output_type": "stream",
     "text": [
      "2\n"
     ]
    }
   ],
   "source": [
    "for opcode in messages:\n",
    "    B = opcode.to_bytes(2, 'big')\n",
    "    write(D3XX, PIPE, B)"
   ]
  },
  {
   "cell_type": "markdown",
   "id": "e7d5994c",
   "metadata": {},
   "source": [
    "# Read"
   ]
  },
  {
   "cell_type": "code",
   "execution_count": 15,
   "id": "7954c21b",
   "metadata": {},
   "outputs": [
    {
     "name": "stdout",
     "output_type": "stream",
     "text": [
      "Code sent: b'\\xff\\x80'\n",
      "2\n"
     ]
    }
   ],
   "source": [
    "messages = [0x80FF]\n",
    "\n",
    "for opcode in messages:\n",
    "    B = opcode.to_bytes(2, 'little')\n",
    "    print(\"Code sent:\",B)\n",
    "    print(D3XX.writePipe(PIPE, B, len(B)))\n",
    "# Writing works for the 3 x2 bytes"
   ]
  },
  {
   "cell_type": "code",
   "execution_count": 6,
   "id": "8fe67fc3",
   "metadata": {},
   "outputs": [
    {
     "name": "stdout",
     "output_type": "stream",
     "text": [
      "2\n",
      "2\n",
      "2\n"
     ]
    }
   ],
   "source": [
    "messages = [0x1000,0x2020,0x3000]\n",
    "\n",
    "for opcode in messages:\n",
    "    B = opcode.to_bytes(2, 'little')\n",
    "    #print(\"Code sent:\",B)\n",
    "    print(D3XX.writePipe(PIPE, B, len(B)))\n",
    "# Writing works for the 3 x2 bytes "
   ]
  },
  {
   "cell_type": "code",
   "execution_count": 7,
   "id": "30fd5576",
   "metadata": {},
   "outputs": [
    {
     "name": "stdout",
     "output_type": "stream",
     "text": [
      "Pipe,  0\n"
     ]
    },
    {
     "data": {
      "text/plain": [
       "{'bytesTransferred': 229376, 'bytes': b'\\x01'}"
      ]
     },
     "execution_count": 7,
     "metadata": {},
     "output_type": "execute_result"
    }
   ],
   "source": [
    "B = ReadPipe(D3XX,  0x82, 1048576*2*4*32*8)\n",
    "B"
   ]
  },
  {
   "cell_type": "code",
   "execution_count": 8,
   "id": "7fa10f39",
   "metadata": {},
   "outputs": [
    {
     "data": {
      "text/plain": [
       "(262144, 131072)"
      ]
     },
     "execution_count": 8,
     "metadata": {},
     "output_type": "execute_result"
    }
   ],
   "source": [
    "(2**15)*8,0x20000"
   ]
  },
  {
   "cell_type": "code",
   "execution_count": 12,
   "id": "8236a78f",
   "metadata": {},
   "outputs": [
    {
     "data": {
      "text/plain": [
       "12288.0"
      ]
     },
     "execution_count": 12,
     "metadata": {},
     "output_type": "execute_result"
    }
   ],
   "source": [
    "B[\"bytesTransferred\"]/8 - 0x2000*2"
   ]
  },
  {
   "cell_type": "code",
   "execution_count": 19,
   "id": "2be789ec",
   "metadata": {},
   "outputs": [
    {
     "data": {
      "text/plain": [
       "3.0"
      ]
     },
     "execution_count": 19,
     "metadata": {},
     "output_type": "execute_result"
    }
   ],
   "source": [
    "12288.0/64/16/4"
   ]
  },
  {
   "cell_type": "code",
   "execution_count": 9,
   "id": "ba0f62f3",
   "metadata": {},
   "outputs": [
    {
     "data": {
      "text/plain": [
       "28672.0"
      ]
     },
     "execution_count": 9,
     "metadata": {},
     "output_type": "execute_result"
    }
   ],
   "source": [
    "B[\"bytesTransferred\"]/8"
   ]
  },
  {
   "cell_type": "code",
   "execution_count": 54,
   "id": "5cccc554",
   "metadata": {},
   "outputs": [
    {
     "name": "stdout",
     "output_type": "stream",
     "text": [
      "Code sent: b'p\\x00'\n",
      "2\n",
      "Code sent: b'\\xcc\\x00'\n",
      "2\n"
     ]
    }
   ],
   "source": [
    "messages = [0x70,0xCC]\n",
    "\n",
    "for opcode in messages:\n",
    "    B = opcode.to_bytes(2, 'little')\n",
    "    print(\"Code sent:\",B)\n",
    "    print(D3XX.writePipe(PIPE, B, len(B)))\n",
    "# Writing works for the 3 x2 bytes"
   ]
  },
  {
   "cell_type": "code",
   "execution_count": 55,
   "id": "ced3bd9b",
   "metadata": {},
   "outputs": [
    {
     "name": "stdout",
     "output_type": "stream",
     "text": [
      "Pipe,  0\n"
     ]
    },
    {
     "data": {
      "text/plain": [
       "{'bytesTransferred': 0, 'bytes': b''}"
      ]
     },
     "execution_count": 55,
     "metadata": {},
     "output_type": "execute_result"
    }
   ],
   "source": [
    "ReadPipe(D3XX,  0x82, 2)"
   ]
  }
 ],
 "metadata": {
  "kernelspec": {
   "display_name": "Python 3 (ipykernel)",
   "language": "python",
   "name": "python3"
  },
  "language_info": {
   "codemirror_mode": {
    "name": "ipython",
    "version": 3
   },
   "file_extension": ".py",
   "mimetype": "text/x-python",
   "name": "python",
   "nbconvert_exporter": "python",
   "pygments_lexer": "ipython3",
   "version": "3.10.6"
  }
 },
 "nbformat": 4,
 "nbformat_minor": 5
}
