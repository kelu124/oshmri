{
 "cells": [
  {
   "cell_type": "code",
   "execution_count": 1,
   "id": "22d6d0b5",
   "metadata": {},
   "outputs": [],
   "source": [
    "import pandas as pd\n",
    "# LOOPS works"
   ]
  },
  {
   "cell_type": "code",
   "execution_count": 2,
   "id": "83285c55",
   "metadata": {},
   "outputs": [],
   "source": [
    "import sys;\n",
    "import select;\n",
    "import socket;\n",
    "import time;\n",
    "import os;\n",
    "import numpy as np\n",
    "import random;\n",
    "import ctypes;\n",
    "from time import sleep;\n",
    "import time;\n"
   ]
  },
  {
   "cell_type": "code",
   "execution_count": 3,
   "id": "7e64dd05",
   "metadata": {},
   "outputs": [],
   "source": [
    "import ftd3xx\n",
    "import sys\n",
    "import ftd3xx._ftd3xx_linux as _ft"
   ]
  },
  {
   "cell_type": "code",
   "execution_count": 4,
   "id": "7cfbed36",
   "metadata": {},
   "outputs": [
    {
     "name": "stdout",
     "output_type": "stream",
     "text": [
      "linux\n"
     ]
    }
   ],
   "source": [
    "print(sys.platform)\n",
    "def ReadPipe(D3XX, pipe, size):\n",
    "    print(\"Read:\",pipe-0x82)\n",
    "    return D3XX.readPipeEx(pipe-0x82, size)\n",
    "\n",
    "def CancelPipe(D3XX, pipe):\n",
    "\n",
    "    if sys.platform == 'linux':\n",
    "        return D3XX.flushPipe(pipe)\n",
    "\n",
    "    return D3XX.abortPipe(pipe)"
   ]
  },
  {
   "cell_type": "code",
   "execution_count": 5,
   "id": "203f30b4",
   "metadata": {},
   "outputs": [
    {
     "name": "stdout",
     "output_type": "stream",
     "text": [
      "1\n",
      "1  Device\n",
      "[<ftd3xx._ftd3xx_linux._FT_DEVICE_LIST_INFO_NODE object at 0x7f061ba424c0>]\n"
     ]
    }
   ],
   "source": [
    "numDevices = ftd3xx.createDeviceInfoList()\n",
    "print(numDevices)\n",
    "if (numDevices == 0):\n",
    "    print(\"ERROR: No FTD3XX device is detected.\");\n",
    "else:\n",
    "    print(numDevices,\" Device\")\n",
    "devList = ftd3xx.getDeviceInfoList()\n",
    "print(devList)\n",
    "# Just open the first device (index 0)\n",
    "devIndex = 0;\n",
    "D3XX = ftd3xx.create(devIndex, _ft.FT_OPEN_BY_INDEX);  "
   ]
  },
  {
   "cell_type": "code",
   "execution_count": 6,
   "id": "f6a4c312",
   "metadata": {},
   "outputs": [
    {
     "name": "stdout",
     "output_type": "stream",
     "text": [
      "CLK:  0\n",
      "Mode:  0\n",
      "FlashEEPROMDetection:  16\n",
      "VID/PID: 0x60 0x1e\n"
     ]
    }
   ],
   "source": [
    "cfg = D3XX.getChipConfiguration();\n",
    "print(\"CLK: \",cfg.FIFOClock)\n",
    "print(\"Mode: \",cfg.FIFOMode)\n",
    "print(\"FlashEEPROMDetection: \",cfg.FlashEEPROMDetection)\n",
    "VP = D3XX.getVIDPID()\n",
    "print(\"VID/PID:\",hex(VP[0]), hex(VP[1]))"
   ]
  },
  {
   "cell_type": "code",
   "execution_count": 7,
   "id": "c182dbc6",
   "metadata": {},
   "outputs": [],
   "source": [
    "# Reset the FT600 to make sure starting fresh with nothing in FIFOs\n",
    "D3XX.resetDevicePort(); # Flush\n",
    "D3XX.close();"
   ]
  },
  {
   "cell_type": "code",
   "execution_count": 8,
   "id": "23b08b1f",
   "metadata": {},
   "outputs": [
    {
     "data": {
      "text/plain": [
       "0"
      ]
     },
     "execution_count": 8,
     "metadata": {},
     "output_type": "execute_result"
    }
   ],
   "source": [
    "D3XX = ftd3xx.create(devIndex, _ft.FT_OPEN_BY_INDEX);\n",
    "\n",
    "# check if USB3 or USB2\n",
    "devDesc = D3XX.getDeviceDescriptor();\n",
    "bUSB3 = devDesc.bcdUSB >= 0x300;\n",
    "\n",
    "# validate chip configuration\n",
    "cfg = D3XX.getChipConfiguration();\n",
    "cfg.FIFOClock"
   ]
  },
  {
   "cell_type": "code",
   "execution_count": 9,
   "id": "c19fcbe5",
   "metadata": {},
   "outputs": [],
   "source": [
    "D3XX.setChipConfiguration(cfg);"
   ]
  },
  {
   "cell_type": "code",
   "execution_count": 10,
   "id": "41216bd4",
   "metadata": {},
   "outputs": [
    {
     "name": "stdout",
     "output_type": "stream",
     "text": [
      "Changing FT600 Frequency\n"
     ]
    }
   ],
   "source": [
    "desired_freq = 1;# 1=66 MHz, 0=100 MHz\n",
    "if ( cfg.FIFOClock != desired_freq ):\n",
    "    print(\"Changing FT600 Frequency\");\n",
    "    cfg.FIFOClock = desired_freq;\n",
    "    D3XX.setChipConfiguration(cfg);\n",
    "D3XX.resetDevicePort(); # Flush\n",
    "D3XX.close();"
   ]
  },
  {
   "cell_type": "code",
   "execution_count": 11,
   "id": "52a51f5c",
   "metadata": {},
   "outputs": [
    {
     "name": "stdout",
     "output_type": "stream",
     "text": [
      "1  Device\n",
      "[<ftd3xx._ftd3xx_linux._FT_DEVICE_LIST_INFO_NODE object at 0x7f061ba437c0>]\n"
     ]
    }
   ],
   "source": [
    "numDevices = ftd3xx.createDeviceInfoList()\n",
    "if (numDevices == 0):\n",
    "    print(\"ERROR: No FTD3XX device is detected.\");\n",
    "else:\n",
    "    print(numDevices,\" Device\")\n",
    "devList = ftd3xx.getDeviceInfoList()\n",
    "print(devList)\n",
    "devIndex = 0;\n",
    "D3XX = ftd3xx.create(devIndex, _ft.FT_OPEN_BY_INDEX);"
   ]
  },
  {
   "cell_type": "code",
   "execution_count": 12,
   "id": "09162a33",
   "metadata": {},
   "outputs": [
    {
     "name": "stdout",
     "output_type": "stream",
     "text": [
      "\tVendorID = 0x0403\n",
      "\tProductID = 0x601e\n"
     ]
    },
    {
     "data": {
      "text/plain": [
       "(0, 265)"
      ]
     },
     "execution_count": 12,
     "metadata": {},
     "output_type": "execute_result"
    }
   ],
   "source": [
    "cfg = D3XX.getChipConfiguration();\n",
    "cfg.FIFOClock\n",
    "\n",
    "cfg = D3XX.getChipConfiguration();\n",
    "print(\"\\tVendorID = %#06x\" % cfg.VendorID)\n",
    "print(\"\\tProductID = %#06x\" % cfg.ProductID)\n",
    "cfg.FIFOMode,D3XX.getFirmwareVersion()"
   ]
  },
  {
   "cell_type": "code",
   "execution_count": 13,
   "id": "ad24a44f",
   "metadata": {},
   "outputs": [],
   "source": [
    "import ctypes\n",
    "conf = _ft.FT_TRANSFER_CONF();\n",
    "conf.wStructSize = ctypes.sizeof(_ft.FT_TRANSFER_CONF);\n",
    "conf.pipe[_ft.FT_PIPE_DIR_IN].fPipeNotUsed = True;\n",
    "conf.pipe[_ft.FT_PIPE_DIR_OUT].fPipeNotUsed = True;\n",
    "conf.pipe.fReserved = False;\n",
    "conf.pipe.fKeepDeviceSideBufferAfterReopen = False;\n",
    "for i in range(4):\n",
    "    ftd3xx.setTransferParams(conf, i);"
   ]
  },
  {
   "cell_type": "code",
   "execution_count": 14,
   "id": "4573a8a9",
   "metadata": {},
   "outputs": [
    {
     "name": "stdout",
     "output_type": "stream",
     "text": [
      "linux\n"
     ]
    }
   ],
   "source": [
    "print(sys.platform)\n",
    "def ReadPipe(D3XX, pipe, size):\n",
    "\n",
    "    if sys.platform == 'linux':\n",
    "        pipe -= 0x82\n",
    "    print(\"Pipe, \",pipe)\n",
    "    return D3XX.readPipeEx(pipe, size)\n",
    "\n",
    "def CancelPipe(D3XX, pipe):\n",
    "\n",
    "    if sys.platform == 'linux':\n",
    "        return D3XX.flushPipe(pipe)\n",
    "\n",
    "    return D3XX.abortPipe(pipe)"
   ]
  },
  {
   "cell_type": "code",
   "execution_count": 15,
   "id": "293911ab",
   "metadata": {},
   "outputs": [],
   "source": [
    "# Call before FT_Create when non-transfer functions will be called\n",
    "# Only needed for RevA chip (Firmware 1.0.2)\n",
    "# Not necessary starting RevB chip (Firmware 1.0.9)\n",
    "conf = _ft.FT_TRANSFER_CONF();\n",
    "conf.wStructSize = ctypes.sizeof(_ft.FT_TRANSFER_CONF);\n",
    "conf.pipe[_ft.FT_PIPE_DIR_IN].fPipeNotUsed = True;\n",
    "conf.pipe[_ft.FT_PIPE_DIR_OUT].fPipeNotUsed = True;\n",
    "conf.pipe.fReserved = False;\n",
    "conf.pipe.fKeepDeviceSideBufferAfterReopen = False;\n",
    "for i in range(4):\n",
    "    ftd3xx.setTransferParams(conf, i);"
   ]
  },
  {
   "cell_type": "code",
   "execution_count": 16,
   "id": "7335ddc4",
   "metadata": {},
   "outputs": [
    {
     "data": {
      "text/plain": [
       "0"
      ]
     },
     "execution_count": 16,
     "metadata": {},
     "output_type": "execute_result"
    }
   ],
   "source": [
    "D3XX.getLastError()"
   ]
  },
  {
   "cell_type": "code",
   "execution_count": 17,
   "id": "1b0c3dd4",
   "metadata": {},
   "outputs": [
    {
     "data": {
      "text/plain": [
       "1"
      ]
     },
     "execution_count": 17,
     "metadata": {},
     "output_type": "execute_result"
    }
   ],
   "source": [
    "numChannels = [4, 2, 1, 0, 0]\n",
    "numChannels = numChannels[cfg.ChannelConfig]\n",
    "numChannels"
   ]
  },
  {
   "cell_type": "code",
   "execution_count": 18,
   "id": "6bc7e7fb",
   "metadata": {},
   "outputs": [],
   "source": [
    "def write(D3XX, pipe, bytes, timeout=1000):\n",
    "\n",
    "    print(len(bytes))\n",
    "    return D3XX.writePipe(pipe, bytes, len(bytes), timeout)\n"
   ]
  },
  {
   "cell_type": "code",
   "execution_count": 19,
   "id": "ef66213e",
   "metadata": {},
   "outputs": [
    {
     "ename": "SyntaxError",
     "evalue": "invalid syntax (2624491667.py, line 1)",
     "output_type": "error",
     "traceback": [
      "\u001b[0;36m  Cell \u001b[0;32mIn[19], line 1\u001b[0;36m\u001b[0m\n\u001b[0;31m    print(break\u001b[0m\n\u001b[0m          ^\u001b[0m\n\u001b[0;31mSyntaxError\u001b[0m\u001b[0;31m:\u001b[0m invalid syntax\n"
     ]
    }
   ],
   "source": [
    "print(break"
   ]
  },
  {
   "cell_type": "code",
   "execution_count": 20,
   "id": "a4e0d846",
   "metadata": {},
   "outputs": [],
   "source": [
    "channel = 0\n",
    "\n",
    "PIPE = 0x02 + channel\n",
    "if sys.platform == 'linux':\n",
    "    PIPE -= 0x02\n",
    "    \n",
    "    "
   ]
  },
  {
   "cell_type": "code",
   "execution_count": 55,
   "id": "f09f14a0",
   "metadata": {},
   "outputs": [
    {
     "name": "stdout",
     "output_type": "stream",
     "text": [
      "Code sent: b'\\xaa\\x80'\n",
      "2\n"
     ]
    }
   ],
   "source": [
    "messages = [0x80AA]\n",
    "\n",
    "for opcode in messages:\n",
    "    B = opcode.to_bytes(2, 'little')\n",
    "    print(\"Code sent:\",B)\n",
    "    print(D3XX.writePipe(PIPE, B, len(B)))\n",
    "# Writing works for the 3 x2 bytes"
   ]
  },
  {
   "cell_type": "code",
   "execution_count": 56,
   "id": "2b4d4f90",
   "metadata": {},
   "outputs": [
    {
     "name": "stdout",
     "output_type": "stream",
     "text": [
      "Code sent: b'\\xcc\\x80'\n",
      "2\n"
     ]
    }
   ],
   "source": [
    "messages = [0x80CC]\n",
    "\n",
    "for opcode in messages:\n",
    "    B = opcode.to_bytes(2, 'little')\n",
    "    print(\"Code sent:\",B)\n",
    "    print(D3XX.writePipe(PIPE, B, len(B)))\n",
    "# Writing works for the 3 x2 bytes"
   ]
  },
  {
   "cell_type": "code",
   "execution_count": 53,
   "id": "3611bb01",
   "metadata": {},
   "outputs": [
    {
     "name": "stdout",
     "output_type": "stream",
     "text": [
      "Pipe,  0\n"
     ]
    },
    {
     "data": {
      "text/plain": [
       "{'bytesTransferred': 0, 'bytes': b''}"
      ]
     },
     "execution_count": 53,
     "metadata": {},
     "output_type": "execute_result"
    }
   ],
   "source": [
    "ReadPipe(D3XX,  0x82, 17*2*8*10000)"
   ]
  },
  {
   "cell_type": "code",
   "execution_count": 23,
   "id": "10bf80c5",
   "metadata": {},
   "outputs": [
    {
     "name": "stdout",
     "output_type": "stream",
     "text": [
      "Code sent: b'\\x00\\x10'\n",
      "2\n"
     ]
    }
   ],
   "source": [
    "\n",
    "messages = [0x1000]\n",
    "\n",
    "for opcode in messages:\n",
    "    B = opcode.to_bytes(2, 'little')\n",
    "    print(\"Code sent:\",B)\n",
    "    print(D3XX.writePipe(PIPE, B, len(B)))\n",
    "# Writing works for the 3 x2 bytes"
   ]
  },
  {
   "cell_type": "code",
   "execution_count": 24,
   "id": "d73f0242",
   "metadata": {},
   "outputs": [
    {
     "name": "stdout",
     "output_type": "stream",
     "text": [
      "Pipe,  0\n"
     ]
    },
    {
     "data": {
      "text/plain": [
       "{'bytesTransferred': 0, 'bytes': b''}"
      ]
     },
     "execution_count": 24,
     "metadata": {},
     "output_type": "execute_result"
    }
   ],
   "source": [
    "ReadPipe(D3XX,  0x82, 16*2*8*16*3000)"
   ]
  },
  {
   "cell_type": "code",
   "execution_count": 25,
   "id": "697b7d96",
   "metadata": {},
   "outputs": [
    {
     "name": "stdout",
     "output_type": "stream",
     "text": [
      "2\n"
     ]
    }
   ],
   "source": [
    "for opcode in messages:\n",
    "    B = opcode.to_bytes(2, 'big')\n",
    "    write(D3XX, PIPE, B)"
   ]
  },
  {
   "cell_type": "markdown",
   "id": "e7d5994c",
   "metadata": {},
   "source": [
    "# Read"
   ]
  },
  {
   "cell_type": "code",
   "execution_count": 26,
   "id": "7954c21b",
   "metadata": {},
   "outputs": [
    {
     "data": {
      "text/plain": [
       "True"
      ]
     },
     "execution_count": 26,
     "metadata": {},
     "output_type": "execute_result"
    }
   ],
   "source": [
    "2* (0x080000) == 1048576 # 128*128*64"
   ]
  },
  {
   "cell_type": "code",
   "execution_count": 43,
   "id": "8fe67fc3",
   "metadata": {},
   "outputs": [
    {
     "name": "stdout",
     "output_type": "stream",
     "text": [
      "2\n",
      "2\n",
      "2\n"
     ]
    }
   ],
   "source": [
    "messages = [0x1000,0x2080,0x3000]\n",
    "\n",
    "for opcode in messages:\n",
    "    B = opcode.to_bytes(2, 'little')\n",
    "    #print(\"Code sent:\",B)\n",
    "    print(D3XX.writePipe(PIPE, B, len(B)))\n",
    "# Writing works for the 3 x2 bytes "
   ]
  },
  {
   "cell_type": "code",
   "execution_count": 51,
   "id": "30fd5576",
   "metadata": {},
   "outputs": [
    {
     "name": "stdout",
     "output_type": "stream",
     "text": [
      "Pipe,  0\n"
     ]
    },
    {
     "data": {
      "text/plain": [
       "{'bytesTransferred': 0, 'bytes': b''}"
      ]
     },
     "execution_count": 51,
     "metadata": {},
     "output_type": "execute_result"
    }
   ],
   "source": [
    "ReadPipe(D3XX,  0x82, 1048576)"
   ]
  },
  {
   "cell_type": "code",
   "execution_count": 74,
   "id": "5cccc554",
   "metadata": {},
   "outputs": [
    {
     "name": "stdout",
     "output_type": "stream",
     "text": [
      "Code sent: b'p'\n",
      "1\n",
      "Code sent: b'\\xcc'\n",
      "1\n"
     ]
    }
   ],
   "source": [
    "\n",
    "messages = [0x70,0xCC]\n",
    "\n",
    "for opcode in messages:\n",
    "    B = opcode.to_bytes(2, 'little')\n",
    "    print(\"Code sent:\",B)\n",
    "    print(D3XX.writePipe(PIPE, B, len(B)))\n",
    "# Writing works for the 3 x2 bytes"
   ]
  },
  {
   "cell_type": "code",
   "execution_count": 75,
   "id": "ced3bd9b",
   "metadata": {},
   "outputs": [
    {
     "name": "stdout",
     "output_type": "stream",
     "text": [
      "Pipe,  0\n"
     ]
    },
    {
     "data": {
      "text/plain": [
       "{'bytesTransferred': 0, 'bytes': b''}"
      ]
     },
     "execution_count": 75,
     "metadata": {},
     "output_type": "execute_result"
    }
   ],
   "source": [
    "ReadPipe(D3XX,  0x82, 2)"
   ]
  }
 ],
 "metadata": {
  "kernelspec": {
   "display_name": "Python 3 (ipykernel)",
   "language": "python",
   "name": "python3"
  },
  "language_info": {
   "codemirror_mode": {
    "name": "ipython",
    "version": 3
   },
   "file_extension": ".py",
   "mimetype": "text/x-python",
   "name": "python",
   "nbconvert_exporter": "python",
   "pygments_lexer": "ipython3",
   "version": "3.10.6"
  }
 },
 "nbformat": 4,
 "nbformat_minor": 5
}
